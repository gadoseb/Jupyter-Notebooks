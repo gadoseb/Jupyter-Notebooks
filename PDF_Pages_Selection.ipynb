{
 "cells": [
  {
   "cell_type": "markdown",
   "metadata": {},
   "source": [
    "# PDF Files - Pages Selection\n",
    "\n",
    "The libraries required for this code are:\n",
    "\n",
    "- **PyPDF2** `pip install PyPDF2`: to handle PDF files and mainpulation\n",
    "- **glob**: this module is in the standard module list (no need to install); the role is to select all the files in a folder\n",
    "- **ipywidgets** `pip install ipywidgets`: provides interactive widgets and it is used to build simple graphical user interfaces within Jupyter Notebook"
   ]
  },
  {
   "cell_type": "code",
   "execution_count": null,
   "metadata": {},
   "outputs": [],
   "source": [
    "import os\n",
    "import glob\n",
    "from PyPDF2 import PdfReader, PdfWriter\n",
    "import ipywidgets as widgets\n",
    "from IPython.display import display, clear_output"
   ]
  },
  {
   "cell_type": "markdown",
   "metadata": {},
   "source": [
    "### Function 1 - select_pages\n",
    "The following function will select specific pages from a PDF file and create a new PDF containing only those pages."
   ]
  },
  {
   "cell_type": "code",
   "execution_count": null,
   "metadata": {},
   "outputs": [],
   "source": [
    "def select_pages(input_file, output_file, pages_to_select):\n",
    "    with open(input_file, \"rb\") as file:\n",
    "        pdf_reader = PdfReader(file)\n",
    "        pdf_writer = PdfWriter()\n",
    "\n",
    "        for page_num in pages_to_select:\n",
    "            if page_num <= len(pdf_reader.pages) and page_num > 0:\n",
    "                pdf_writer.add_page(pdf_reader.pages[page_num - 1])\n",
    "\n",
    "        with open(output_file, \"wb\") as output:\n",
    "            pdf_writer.write(output)"
   ]
  },
  {
   "cell_type": "markdown",
   "metadata": {},
   "source": [
    "### Function 2 - process_folder\n",
    "The following function find all the PDF files in a folder and process each file."
   ]
  },
  {
   "cell_type": "code",
   "execution_count": null,
   "metadata": {},
   "outputs": [],
   "source": [
    "def process_folder(input_folder, output_folder, pages_to_select):\n",
    "    os.makedirs(output_folder, exist_ok=True)\n",
    "    pdf_files = glob.glob(os.path.join(input_folder, \"*.pdf\"))\n",
    "\n",
    "    for pdf_file in pdf_files:\n",
    "        file_name = os.path.basename(pdf_file)\n",
    "        output_file = os.path.join(output_folder, file_name)\n",
    "\n",
    "        select_pages(pdf_file, output_file, pages_to_select)\n",
    "\n",
    "        print(f\"Selected pages from '{file_name}' exported to '{output_file}'.\")"
   ]
  },
  {
   "cell_type": "markdown",
   "metadata": {},
   "source": [
    "### GUI Widgets\n",
    "The following code will generate text input boxes at the end of this cell. The user can type the input path (folder which contains the PDF files to be processed), output path (the folder to store the processed PDF files) and page numbers (separated by \",\")."
   ]
  },
  {
   "cell_type": "code",
   "execution_count": 1,
   "metadata": {},
   "outputs": [
    {
     "data": {
      "application/vnd.jupyter.widget-view+json": {
       "model_id": "52c4060278df415b997789dc7f65c5ee",
       "version_major": 2,
       "version_minor": 0
      },
      "text/plain": [
       "Text(value='path/to/input/folder', description='Input Folder:')"
      ]
     },
     "metadata": {},
     "output_type": "display_data"
    },
    {
     "data": {
      "application/vnd.jupyter.widget-view+json": {
       "model_id": "14e9958b33884536b591ba88c1c87805",
       "version_major": 2,
       "version_minor": 0
      },
      "text/plain": [
       "Text(value='path/to/output/folder', description='Output Folder:')"
      ]
     },
     "metadata": {},
     "output_type": "display_data"
    },
    {
     "data": {
      "application/vnd.jupyter.widget-view+json": {
       "model_id": "744fad364fcd4c53aab94cfe25dcc65a",
       "version_major": 2,
       "version_minor": 0
      },
      "text/plain": [
       "Text(value='1, 3, 5', description='Pages to Select:')"
      ]
     },
     "metadata": {},
     "output_type": "display_data"
    },
    {
     "data": {
      "application/vnd.jupyter.widget-view+json": {
       "model_id": "2079319e5c3047dc9ece66d2ddf991b1",
       "version_major": 2,
       "version_minor": 0
      },
      "text/plain": [
       "Button(description='Process Files', style=ButtonStyle())"
      ]
     },
     "metadata": {},
     "output_type": "display_data"
    },
    {
     "name": "stdout",
     "output_type": "stream",
     "text": [
      "Selected pages from 'Atomic Pd@GCN.pdf' exported to 'C:\\Users\\GadolS01\\OneDrive - Johnson Matthey\\Solar2Chem - Electrochemical Transformations\\Important Papers\\Atomic Pd@GCN.pdf'.\n",
      "Selected pages from 'B and P co-doped EGCN.pdf' exported to 'C:\\Users\\GadolS01\\OneDrive - Johnson Matthey\\Solar2Chem - Electrochemical Transformations\\Important Papers\\B and P co-doped EGCN.pdf'.\n",
      "Selected pages from 'B-doped EGCN Thermal Air.pdf' exported to 'C:\\Users\\GadolS01\\OneDrive - Johnson Matthey\\Solar2Chem - Electrochemical Transformations\\Important Papers\\B-doped EGCN Thermal Air.pdf'.\n",
      "Selected pages from 'B-doped EGCN.pdf' exported to 'C:\\Users\\GadolS01\\OneDrive - Johnson Matthey\\Solar2Chem - Electrochemical Transformations\\Important Papers\\B-doped EGCN.pdf'.\n",
      "Selected pages from 'Colloidal Au Catalyst Preparation Selective Removal of PVP from Active Au sites.pdf' exported to 'C:\\Users\\GadolS01\\OneDrive - Johnson Matthey\\Solar2Chem - Electrochemical Transformations\\Important Papers\\Colloidal Au Catalyst Preparation Selective Removal of PVP from Active Au sites.pdf'.\n",
      "Selected pages from 'Cu SACs on GCN.pdf' exported to 'C:\\Users\\GadolS01\\OneDrive - Johnson Matthey\\Solar2Chem - Electrochemical Transformations\\Important Papers\\Cu SACs on GCN.pdf'.\n",
      "Selected pages from 'Cu@B-EGCN for toluene oxidation to benzaldehyde.pdf' exported to 'C:\\Users\\GadolS01\\OneDrive - Johnson Matthey\\Solar2Chem - Electrochemical Transformations\\Important Papers\\Cu@B-EGCN for toluene oxidation to benzaldehyde.pdf'.\n",
      "Selected pages from 'GCN Single Atoms.pdf' exported to 'C:\\Users\\GadolS01\\OneDrive - Johnson Matthey\\Solar2Chem - Electrochemical Transformations\\Important Papers\\GCN Single Atoms.pdf'.\n",
      "Selected pages from 'P-doped GCN Phytic Acid.pdf' exported to 'C:\\Users\\GadolS01\\OneDrive - Johnson Matthey\\Solar2Chem - Electrochemical Transformations\\Important Papers\\P-doped GCN Phytic Acid.pdf'.\n",
      "Selected pages from 'P-doped GCN.pdf' exported to 'C:\\Users\\GadolS01\\OneDrive - Johnson Matthey\\Solar2Chem - Electrochemical Transformations\\Important Papers\\P-doped GCN.pdf'.\n",
      "Selected pages from 'Pd@GCN for Suzuki Coupling.pdf' exported to 'C:\\Users\\GadolS01\\OneDrive - Johnson Matthey\\Solar2Chem - Electrochemical Transformations\\Important Papers\\Pd@GCN for Suzuki Coupling.pdf'.\n",
      "Selected pages from 'Stabilization of Single Metal Atoms on Graphitic Carbon Nitride.pdf' exported to 'C:\\Users\\GadolS01\\OneDrive - Johnson Matthey\\Solar2Chem - Electrochemical Transformations\\Important Papers\\Stabilization of Single Metal Atoms on Graphitic Carbon Nitride.pdf'.\n",
      "Selected pages from 'Tunability and Scalability of Single-Atom Catalysts Based on Carbon Nitride.pdf' exported to 'C:\\Users\\GadolS01\\OneDrive - Johnson Matthey\\Solar2Chem - Electrochemical Transformations\\Important Papers\\Tunability and Scalability of Single-Atom Catalysts Based on Carbon Nitride.pdf'.\n"
     ]
    }
   ],
   "source": [
    "# Create widgets for user input\n",
    "input_folder_widget = widgets.Text(\n",
    "    value=\"path/to/input/folder\",\n",
    "    description=\"Input Folder:\",\n",
    ")\n",
    "output_folder_widget = widgets.Text(\n",
    "    value=\"path/to/output/folder\",\n",
    "    description=\"Output Folder:\",\n",
    ")\n",
    "pages_to_select_widget = widgets.Text(\n",
    "    value=\"1, 3, 5\",\n",
    "    description=\"Pages to Select:\",\n",
    ")\n",
    "\n",
    "# Define a function to trigger the file processing\n",
    "def process_files(button):\n",
    "    input_folder = input_folder_widget.value.strip()\n",
    "    output_folder = output_folder_widget.value.strip()\n",
    "    pages_to_select = [int(page) for page in pages_to_select_widget.value.split(\",\")]\n",
    "\n",
    "    process_folder(input_folder, output_folder, pages_to_select)\n",
    "\n",
    "# Create a button widget to trigger the file processing\n",
    "process_button = widgets.Button(description=\"Process Files\")\n",
    "process_button.on_click(process_files)\n",
    "\n",
    "# Display the widgets and button\n",
    "display(input_folder_widget)\n",
    "display(output_folder_widget)\n",
    "display(pages_to_select_widget)\n",
    "display(process_button)"
   ]
  },
  {
   "cell_type": "code",
   "execution_count": null,
   "metadata": {},
   "outputs": [],
   "source": []
  }
 ],
 "metadata": {
  "kernelspec": {
   "display_name": "base",
   "language": "python",
   "name": "python3"
  },
  "language_info": {
   "codemirror_mode": {
    "name": "ipython",
    "version": 3
   },
   "file_extension": ".py",
   "mimetype": "text/x-python",
   "name": "python",
   "nbconvert_exporter": "python",
   "pygments_lexer": "ipython3",
   "version": "3.10.9"
  },
  "orig_nbformat": 4
 },
 "nbformat": 4,
 "nbformat_minor": 2
}
